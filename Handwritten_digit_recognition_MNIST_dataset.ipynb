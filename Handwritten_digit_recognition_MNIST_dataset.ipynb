{
 "cells": [
  {
   "cell_type": "markdown",
   "id": "e301104b-9b64-433c-8560-631bad939702",
   "metadata": {},
   "source": [
    "Import relevant packages"
   ]
  },
  {
   "cell_type": "code",
   "execution_count": 65,
   "id": "b644ed60-e34e-459c-9327-51c4c5461886",
   "metadata": {},
   "outputs": [],
   "source": [
    "import numpy as np\n",
    "import tensorflow as tf\n",
    "import tensorflow_datasets as tfds"
   ]
  },
  {
   "cell_type": "markdown",
   "id": "a0174bf8-f86e-4ab5-983a-1b4cbc060461",
   "metadata": {},
   "source": [
    "Data"
   ]
  },
  {
   "cell_type": "code",
   "execution_count": 67,
   "id": "d393f37a-0b7d-40b0-b9a6-31b73e14a9c6",
   "metadata": {},
   "outputs": [],
   "source": [
    "mnist_dataset,mnist_info=tfds.load(name='mnist',with_info=True,as_supervised=True)\n",
    "\n",
    "mnist_train,mnist_test=mnist_dataset['train'],mnist_dataset['test']\n",
    "\n",
    "num_validation_samples = 0.1*mnist_info.splits['train'].num_examples\n",
    "num_validation_samples=tf.cast(num_validation_samples,tf.int64)\n",
    "\n",
    "num_test_samples = mnist_info.splits['test'].num_examples\n",
    "num_test_samples=tf.cast(num_test_samples,tf.int64)\n",
    "\n",
    "def scale(image,label):\n",
    "    image=tf.cast(image, tf.float32)\n",
    "    image/=255.0\n",
    "    return image,label\n",
    "\n",
    "scaled_train_and_validation_data = mnist_train.map(scale)\n",
    "\n",
    "test_data = mnist_test.map(scale)\n",
    "\n",
    "Buffer_size = 10000\n",
    "shuffled_train_and_validation_data=scaled_train_and_validation_data.shuffle(Buffer_size)\n",
    "\n",
    "validation_data=shuffled_train_and_validation_data.take(num_validation_samples)\n",
    "training_data=shuffled_train_and_validation_data.skip(num_validation_samples)\n",
    "\n",
    "Batch_size=100\n",
    "training_data=training_data.batch(Batch_size)\n",
    "validation_data=validation_data.batch(num_validation_samples)\n",
    "test_data=test_data.batch(num_test_samples)\n",
    "\n",
    "validation_inputs,validation_targets = next(iter(validation_data))\n"
   ]
  },
  {
   "cell_type": "markdown",
   "id": "f609c6c6-e5aa-4008-9dd1-a3e6e671aa12",
   "metadata": {},
   "source": [
    "### MODEL"
   ]
  },
  {
   "cell_type": "code",
   "execution_count": 80,
   "id": "09116e86-520a-473f-ad85-f4b6d3df473f",
   "metadata": {},
   "outputs": [],
   "source": [
    "input_size=784\n",
    "output_size=10\n",
    "hidden_layer_size=250\n",
    "model = tf.keras.Sequential([\n",
    "                             tf.keras.layers.Flatten(input_shape=(28,28,1)),\n",
    "                             tf.keras.layers.Dense(hidden_layer_size,activation='relu'),\n",
    "                             tf.keras.layers.Dense(hidden_layer_size,activation='relu'),\n",
    "                             tf.keras.layers.Dense(output_size,activation='softmax')\n",
    "                            ])"
   ]
  },
  {
   "cell_type": "code",
   "execution_count": 82,
   "id": "8c9af726-a629-461b-a35e-b3f95170df4f",
   "metadata": {},
   "outputs": [],
   "source": [
    "model.compile(optimizer='adam',loss='sparse_categorical_crossentropy',metrics=['accuracy'])"
   ]
  },
  {
   "cell_type": "code",
   "execution_count": 84,
   "id": "2507c9aa-1e23-40dd-a74b-3c4e85a54c52",
   "metadata": {},
   "outputs": [
    {
     "name": "stdout",
     "output_type": "stream",
     "text": [
      "Epoch 1/10\n",
      "540/540 - 5s - 9ms/step - accuracy: 0.9246 - loss: 0.2561 - val_accuracy: 0.9552 - val_loss: 0.1442\n",
      "Epoch 2/10\n",
      "540/540 - 4s - 7ms/step - accuracy: 0.9705 - loss: 0.0966 - val_accuracy: 0.9783 - val_loss: 0.0708\n",
      "Epoch 3/10\n",
      "540/540 - 4s - 7ms/step - accuracy: 0.9808 - loss: 0.0624 - val_accuracy: 0.9788 - val_loss: 0.0684\n",
      "Epoch 4/10\n",
      "540/540 - 4s - 8ms/step - accuracy: 0.9860 - loss: 0.0454 - val_accuracy: 0.9867 - val_loss: 0.0505\n",
      "Epoch 5/10\n",
      "540/540 - 3s - 6ms/step - accuracy: 0.9887 - loss: 0.0358 - val_accuracy: 0.9807 - val_loss: 0.0639\n",
      "Epoch 6/10\n",
      "540/540 - 4s - 8ms/step - accuracy: 0.9910 - loss: 0.0283 - val_accuracy: 0.9862 - val_loss: 0.0440\n",
      "Epoch 7/10\n",
      "540/540 - 4s - 8ms/step - accuracy: 0.9923 - loss: 0.0237 - val_accuracy: 0.9897 - val_loss: 0.0351\n",
      "Epoch 8/10\n",
      "540/540 - 4s - 7ms/step - accuracy: 0.9941 - loss: 0.0190 - val_accuracy: 0.9890 - val_loss: 0.0382\n",
      "Epoch 9/10\n",
      "540/540 - 3s - 6ms/step - accuracy: 0.9939 - loss: 0.0184 - val_accuracy: 0.9935 - val_loss: 0.0226\n",
      "Epoch 10/10\n",
      "540/540 - 4s - 7ms/step - accuracy: 0.9939 - loss: 0.0168 - val_accuracy: 0.9940 - val_loss: 0.0232\n"
     ]
    },
    {
     "data": {
      "text/plain": [
       "<keras.src.callbacks.history.History at 0x181399d78d0>"
      ]
     },
     "execution_count": 84,
     "metadata": {},
     "output_type": "execute_result"
    }
   ],
   "source": [
    "Num_epochs=10\n",
    "early_stopping = tf.keras.callbacks.EarlyStopping(patience=2)\n",
    "model.fit(training_data,epochs=Num_epochs,callbacks=[early_stopping],validation_data=(validation_inputs,validation_targets),verbose=2)"
   ]
  },
  {
   "cell_type": "code",
   "execution_count": 86,
   "id": "97c815f2-5307-4479-bd82-64f26736f630",
   "metadata": {},
   "outputs": [
    {
     "name": "stdout",
     "output_type": "stream",
     "text": [
      "\u001b[1m1/1\u001b[0m \u001b[32m━━━━━━━━━━━━━━━━━━━━\u001b[0m\u001b[37m\u001b[0m \u001b[1m0s\u001b[0m 488ms/step - accuracy: 0.9821 - loss: 0.0713\n",
      "Test loss: 0.07. Test accuracy: 98.21%\n"
     ]
    }
   ],
   "source": [
    "test_loss, test_accuracy = model.evaluate(test_data)\n",
    "print('Test loss: {0:.2f}. Test accuracy: {1:.2f}%'.format(test_loss, test_accuracy*100.))"
   ]
  },
  {
   "cell_type": "code",
   "execution_count": null,
   "id": "a148f29b-6d70-445b-8b6b-5e5d761045c9",
   "metadata": {},
   "outputs": [],
   "source": []
  }
 ],
 "metadata": {
  "kernelspec": {
   "display_name": "Python [conda env:tf-env]",
   "language": "python",
   "name": "conda-env-tf-env-py"
  },
  "language_info": {
   "codemirror_mode": {
    "name": "ipython",
    "version": 3
   },
   "file_extension": ".py",
   "mimetype": "text/x-python",
   "name": "python",
   "nbconvert_exporter": "python",
   "pygments_lexer": "ipython3",
   "version": "3.11.11"
  }
 },
 "nbformat": 4,
 "nbformat_minor": 5
}
